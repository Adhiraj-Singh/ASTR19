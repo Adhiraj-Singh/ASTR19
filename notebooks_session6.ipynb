{
  "metadata": {
    "language_info": {
      "codemirror_mode": {
        "name": "python",
        "version": 3
      },
      "file_extension": ".py",
      "mimetype": "text/x-python",
      "name": "python",
      "nbconvert_exporter": "python",
      "pygments_lexer": "ipython3",
      "version": "3.8"
    },
    "kernelspec": {
      "name": "python",
      "display_name": "Pyolite",
      "language": "python"
    }
  },
  "nbformat_minor": 4,
  "nbformat": 4,
  "cells": [
    {
      "cell_type": "code",
      "source": "import math\nimport numpy as np",
      "metadata": {
        "trusted": true
      },
      "execution_count": 2,
      "outputs": []
    },
    {
      "cell_type": "markdown",
      "source": "Sin function takes in an x parameter and returns the sin of that value using the math library",
      "metadata": {}
    },
    {
      "cell_type": "code",
      "source": "def mySin(x):\n    return math.sin(x)",
      "metadata": {
        "trusted": true
      },
      "execution_count": 3,
      "outputs": []
    },
    {
      "cell_type": "markdown",
      "source": "Cos function takes in an x parameter and returns the cos of that value using the math library",
      "metadata": {}
    },
    {
      "cell_type": "code",
      "source": "def myCos(x):\n    return math.cos(x)",
      "metadata": {
        "trusted": true
      },
      "execution_count": 4,
      "outputs": []
    },
    {
      "cell_type": "code",
      "source": "def myTab():\n    myarr = []\n    myarr = np.linspace(0,360,1000)\n    print(\"x\", end=\"                                                   \")\n    print(\"sin(x)\", end = \"                                         \")\n    print(\"cos(x)\")\n    for x in myarr:\n        print(x, end =\"                           \")\n        print(mySin(x), end=\"                      \")\n        print(myCos(x))\n        ",
      "metadata": {
        "trusted": true
      },
      "execution_count": 29,
      "outputs": []
    },
    {
      "cell_type": "code",
      "source": "print(\"x\", end=\"                   \")\nprint(\"sin(x)\", end = \"                  \")\nprint(\"cos(x)\")\n\nfor x in range(0,10):\n    print(x, end = \"      \")\n    print(mySin(x), end = \"         \")\n    print(myCos(x))",
      "metadata": {
        "trusted": true
      },
      "execution_count": 32,
      "outputs": [
        {
          "name": "stdout",
          "text": "x                   sin(x)                  cos(x)\n0      0.0         1.0\n1      0.8414709848078965         0.5403023058681398\n2      0.9092974268256817         -0.4161468365471424\n3      0.1411200080598672         -0.9899924966004454\n4      -0.7568024953079282         -0.6536436208636119\n5      -0.9589242746631385         0.28366218546322625\n6      -0.27941549819892586         0.960170286650366\n7      0.6569865987187891         0.7539022543433046\n8      0.9893582466233818         -0.14550003380861354\n9      0.4121184852417566         -0.9111302618846769\n",
          "output_type": "stream"
        }
      ]
    },
    {
      "cell_type": "code",
      "source": "",
      "metadata": {},
      "execution_count": null,
      "outputs": []
    }
  ]
}